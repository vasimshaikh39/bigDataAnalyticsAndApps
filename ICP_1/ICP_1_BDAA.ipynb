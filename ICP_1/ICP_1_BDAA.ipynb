{
  "nbformat": 4,
  "nbformat_minor": 0,
  "metadata": {
    "colab": {
      "name": "ICP_1_BDAA.ipynb",
      "provenance": [],
      "mount_file_id": "1V3w_TH3QN-rbAjbD2Emgt6-9uBEib16C",
      "authorship_tag": "ABX9TyMQuMTvBYFD4hGvcI2OK0Ub",
      "include_colab_link": true
    },
    "kernelspec": {
      "name": "python3",
      "display_name": "Python 3"
    }
  },
  "cells": [
    {
      "cell_type": "markdown",
      "metadata": {
        "id": "view-in-github",
        "colab_type": "text"
      },
      "source": [
        "<a href=\"https://colab.research.google.com/github/vasimshaikh39/bigDataAnalyticsAndApps/blob/master/ICP_1/ICP_1_BDAA.ipynb\" target=\"_parent\"><img src=\"https://colab.research.google.com/assets/colab-badge.svg\" alt=\"Open In Colab\"/></a>"
      ]
    },
    {
      "cell_type": "markdown",
      "metadata": {
        "id": "UWXKLD0SVkUZ",
        "colab_type": "text"
      },
      "source": [
        "import pandas library"
      ]
    },
    {
      "cell_type": "code",
      "metadata": {
        "id": "tghDJBIjyzWx",
        "colab_type": "code",
        "colab": {}
      },
      "source": [
        "import pandas as pan"
      ],
      "execution_count": 1,
      "outputs": []
    },
    {
      "cell_type": "code",
      "metadata": {
        "id": "XUzy-uoky4W6",
        "colab_type": "code",
        "colab": {
          "base_uri": "https://localhost:8080/",
          "height": 35
        },
        "outputId": "6c9d2f61-9883-4e24-bde5-d57b7e13fba5"
      },
      "source": [
        "print(\"I am learning Big Data Analytics\")"
      ],
      "execution_count": 2,
      "outputs": [
        {
          "output_type": "stream",
          "text": [
            "I am learning Big Data Analytics\n"
          ],
          "name": "stdout"
        }
      ]
    },
    {
      "cell_type": "markdown",
      "metadata": {
        "id": "GPvsFKTNV4qR",
        "colab_type": "text"
      },
      "source": [
        "Read data sheet from google drive path. And print head to see first and last data rows"
      ]
    },
    {
      "cell_type": "code",
      "metadata": {
        "id": "iDuJ1zcQy9x5",
        "colab_type": "code",
        "colab": {
          "base_uri": "https://localhost:8080/",
          "height": 266
        },
        "outputId": "8a2e3d0f-e4e2-4e58-8daa-b11f49fa6963"
      },
      "source": [
        "path = '/content/drive/My Drive/Colab Notebooks/BigDataLabWork/ICP_1/Data.csv'\n",
        "df = pan.read_csv(path)\n",
        "df.head"
      ],
      "execution_count": 3,
      "outputs": [
        {
          "output_type": "execute_result",
          "data": {
            "text/plain": [
              "<bound method NDFrame.head of            id diagnosis  ...  fractal_dimension_worst  Unnamed: 32\n",
              "0      842302         M  ...                  0.11890          NaN\n",
              "1      842517         M  ...                  0.08902          NaN\n",
              "2    84300903         M  ...                  0.08758          NaN\n",
              "3    84348301         M  ...                  0.17300          NaN\n",
              "4    84358402         M  ...                  0.07678          NaN\n",
              "..        ...       ...  ...                      ...          ...\n",
              "564    926424         M  ...                  0.07115          NaN\n",
              "565    926682         M  ...                  0.06637          NaN\n",
              "566    926954         M  ...                  0.07820          NaN\n",
              "567    927241         M  ...                  0.12400          NaN\n",
              "568     92751         B  ...                  0.07039          NaN\n",
              "\n",
              "[569 rows x 33 columns]>"
            ]
          },
          "metadata": {
            "tags": []
          },
          "execution_count": 3
        }
      ]
    },
    {
      "cell_type": "markdown",
      "metadata": {
        "id": "yQ2VGcaiWOkm",
        "colab_type": "text"
      },
      "source": [
        "Data Analysis 1 - Find out data types of data column from given data"
      ]
    },
    {
      "cell_type": "code",
      "metadata": {
        "id": "cZ2gsgZ9y4LP",
        "colab_type": "code",
        "colab": {
          "base_uri": "https://localhost:8080/",
          "height": 621
        },
        "outputId": "7a9f3326-35e1-43a0-c606-536b45adf4fb"
      },
      "source": [
        "df.dtypes"
      ],
      "execution_count": 4,
      "outputs": [
        {
          "output_type": "execute_result",
          "data": {
            "text/plain": [
              "id                           int64\n",
              "diagnosis                   object\n",
              "radius_mean                float64\n",
              "texture_mean               float64\n",
              "perimeter_mean             float64\n",
              "area_mean                  float64\n",
              "smoothness_mean            float64\n",
              "compactness_mean           float64\n",
              "concavity_mean             float64\n",
              "concave points_mean        float64\n",
              "symmetry_mean              float64\n",
              "fractal_dimension_mean     float64\n",
              "radius_se                  float64\n",
              "texture_se                 float64\n",
              "perimeter_se               float64\n",
              "area_se                    float64\n",
              "smoothness_se              float64\n",
              "compactness_se             float64\n",
              "concavity_se               float64\n",
              "concave points_se          float64\n",
              "symmetry_se                float64\n",
              "fractal_dimension_se       float64\n",
              "radius_worst               float64\n",
              "texture_worst              float64\n",
              "perimeter_worst            float64\n",
              "area_worst                 float64\n",
              "smoothness_worst           float64\n",
              "compactness_worst          float64\n",
              "concavity_worst            float64\n",
              "concave points_worst       float64\n",
              "symmetry_worst             float64\n",
              "fractal_dimension_worst    float64\n",
              "Unnamed: 32                float64\n",
              "dtype: object"
            ]
          },
          "metadata": {
            "tags": []
          },
          "execution_count": 4
        }
      ]
    },
    {
      "cell_type": "markdown",
      "metadata": {
        "id": "1UebJfxEXWUD",
        "colab_type": "text"
      },
      "source": [
        "Data Analysis 2 - Count number of data rows and coumns. And show first and last samples of the data"
      ]
    },
    {
      "cell_type": "code",
      "metadata": {
        "id": "t8KpnOTqDCw9",
        "colab_type": "code",
        "colab": {
          "base_uri": "https://localhost:8080/",
          "height": 266
        },
        "outputId": "d69dd722-b97a-4fda-f17e-c5aade2e4566"
      },
      "source": [
        "df.count"
      ],
      "execution_count": 12,
      "outputs": [
        {
          "output_type": "execute_result",
          "data": {
            "text/plain": [
              "<bound method DataFrame.count of            id diagnosis  ...  fractal_dimension_worst  Unnamed: 32\n",
              "0      842302         M  ...                  0.11890          NaN\n",
              "1      842517         M  ...                  0.08902          NaN\n",
              "2    84300903         M  ...                  0.08758          NaN\n",
              "3    84348301         M  ...                  0.17300          NaN\n",
              "4    84358402         M  ...                  0.07678          NaN\n",
              "..        ...       ...  ...                      ...          ...\n",
              "564    926424         M  ...                  0.07115          NaN\n",
              "565    926682         M  ...                  0.06637          NaN\n",
              "566    926954         M  ...                  0.07820          NaN\n",
              "567    927241         M  ...                  0.12400          NaN\n",
              "568     92751         B  ...                  0.07039          NaN\n",
              "\n",
              "[569 rows x 33 columns]>"
            ]
          },
          "metadata": {
            "tags": []
          },
          "execution_count": 12
        }
      ]
    },
    {
      "cell_type": "markdown",
      "metadata": {
        "id": "jVMHdBMFY5Cp",
        "colab_type": "text"
      },
      "source": [
        "Import matplotlib for plot funciton"
      ]
    },
    {
      "cell_type": "code",
      "metadata": {
        "id": "k5vAmPj5XsCH",
        "colab_type": "code",
        "colab": {}
      },
      "source": [
        "import matplotlib.pyplot as plt \n"
      ],
      "execution_count": 16,
      "outputs": []
    },
    {
      "cell_type": "markdown",
      "metadata": {
        "id": "xk32LQMXXl9W",
        "colab_type": "text"
      },
      "source": [
        "Data Analysis 3 - Plot histrogram of area mean"
      ]
    },
    {
      "cell_type": "code",
      "metadata": {
        "id": "43uKw_OnYOLF",
        "colab_type": "code",
        "colab": {
          "base_uri": "https://localhost:8080/",
          "height": 283
        },
        "outputId": "bb555eb3-f748-4c49-9a9f-b8cfb8cb9b71"
      },
      "source": [
        "plt.plot(df.area_mean)"
      ],
      "execution_count": 23,
      "outputs": [
        {
          "output_type": "execute_result",
          "data": {
            "text/plain": [
              "[<matplotlib.lines.Line2D at 0x7fbae34a16a0>]"
            ]
          },
          "metadata": {
            "tags": []
          },
          "execution_count": 23
        },
        {
          "output_type": "display_data",
          "data": {
            "image/png": "[encoded data removed]",
            "text/plain": [
              "<Figure size 432x288 with 1 Axes>"
            ]
          },
          "metadata": {
            "tags": [],
            "needs_background": "light"
          }
        }
      ]
    },
    {
      "cell_type": "markdown",
      "metadata": {
        "id": "eaCOaM11gEuv",
        "colab_type": "text"
      },
      "source": [
        "Data Analysis 4 - Find out if there are duplicate id's"
      ]
    },
    {
      "cell_type": "code",
      "metadata": {
        "id": "zDDUaOjcgWwK",
        "colab_type": "code",
        "colab": {
          "base_uri": "https://localhost:8080/",
          "height": 230
        },
        "outputId": "c5b515ec-2dd0-4222-c1de-a68268ac9739"
      },
      "source": [
        "df.id.drop_duplicates"
      ],
      "execution_count": 26,
      "outputs": [
        {
          "output_type": "execute_result",
          "data": {
            "text/plain": [
              "<bound method Series.drop_duplicates of 0        842302\n",
              "1        842517\n",
              "2      84300903\n",
              "3      84348301\n",
              "4      84358402\n",
              "         ...   \n",
              "564      926424\n",
              "565      926682\n",
              "566      926954\n",
              "567      927241\n",
              "568       92751\n",
              "Name: id, Length: 569, dtype: int64>"
            ]
          },
          "metadata": {
            "tags": []
          },
          "execution_count": 26
        }
      ]
    },
    {
      "cell_type": "markdown",
      "metadata": {
        "id": "4D-e1BgvgxIm",
        "colab_type": "text"
      },
      "source": [
        "Based on analysis 4 it shows that there are no duplicate id's"
      ]
    },
    {
      "cell_type": "markdown",
      "metadata": {
        "id": "n3B1o-8ShdNQ",
        "colab_type": "text"
      },
      "source": [
        "Data Analysis 5 - Find missing values"
      ]
    },
    {
      "cell_type": "code",
      "metadata": {
        "id": "mZGrLmcsojax",
        "colab_type": "code",
        "colab": {
          "base_uri": "https://localhost:8080/",
          "height": 657
        },
        "outputId": "1cfc1966-cc08-4de4-afeb-4655c4447706"
      },
      "source": [
        "import numpy as np\n",
        "\n",
        "df = df.replace('?', np.NaN)\n",
        "print('Number of instances = %d' % (df.shape[0]))\n",
        "print('Number of attributes = %d' % (df.shape[1]))\n",
        "print('Number of missing values:')\n",
        "for col in df.columns:\n",
        "    print('\\t%s: %d' % (col,df[col].isna().sum()))"
      ],
      "execution_count": 69,
      "outputs": [
        {
          "output_type": "stream",
          "text": [
            "Number of instances = 569\n",
            "Number of attributes = 33\n",
            "Number of missing values:\n",
            "\tid: 0\n",
            "\tdiagnosis: 0\n",
            "\tradius_mean: 0\n",
            "\ttexture_mean: 0\n",
            "\tperimeter_mean: 0\n",
            "\tarea_mean: 0\n",
            "\tsmoothness_mean: 0\n",
            "\tcompactness_mean: 0\n",
            "\tconcavity_mean: 0\n",
            "\tconcave points_mean: 0\n",
            "\tsymmetry_mean: 0\n",
            "\tfractal_dimension_mean: 0\n",
            "\tradius_se: 0\n",
            "\ttexture_se: 0\n",
            "\tperimeter_se: 0\n",
            "\tarea_se: 0\n",
            "\tsmoothness_se: 0\n",
            "\tcompactness_se: 0\n",
            "\tconcavity_se: 0\n",
            "\tconcave points_se: 0\n",
            "\tsymmetry_se: 0\n",
            "\tfractal_dimension_se: 0\n",
            "\tradius_worst: 0\n",
            "\ttexture_worst: 0\n",
            "\tperimeter_worst: 0\n",
            "\tarea_worst: 0\n",
            "\tsmoothness_worst: 0\n",
            "\tcompactness_worst: 0\n",
            "\tconcavity_worst: 0\n",
            "\tconcave points_worst: 0\n",
            "\tsymmetry_worst: 0\n",
            "\tfractal_dimension_worst: 0\n",
            "\tUnnamed: 32: 569\n"
          ],
          "name": "stdout"
        }
      ]
    },
    {
      "cell_type": "markdown",
      "metadata": {
        "id": "Dqbbw_lypPBS",
        "colab_type": "text"
      },
      "source": [
        "Based on analysis 4 it shows that there are no missing values."
      ]
    }
  ]
}